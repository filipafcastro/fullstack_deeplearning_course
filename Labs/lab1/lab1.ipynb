{
  "nbformat": 4,
  "nbformat_minor": 0,
  "metadata": {
    "colab": {
      "name": "lab1.ipynb",
      "provenance": []
    },
    "kernelspec": {
      "name": "python3",
      "display_name": "Python 3"
    }
  },
  "cells": [
    {
      "cell_type": "markdown",
      "metadata": {
        "id": "M2HyowNBInH9"
      },
      "source": [
        "# Clone repo & install requirements\r\n",
        "\r\n",
        "This will check out our lab repository, cd into it, install the only missing Python package (pytorch_lightning -- everything else, like PyTorch itself, comes pre-installed on Colab), and allows Python to find packages in the current working directory."
      ]
    },
    {
      "cell_type": "code",
      "metadata": {
        "colab": {
          "base_uri": "https://localhost:8080/"
        },
        "id": "4ctOsOkpG556",
        "outputId": "1a0c955c-00c0-4b82-96be-0b081b181974"
      },
      "source": [
        "!git clone https://github.com/filipafcastro/fullstack_deeplearning_course.git"
      ],
      "execution_count": 1,
      "outputs": [
        {
          "output_type": "stream",
          "text": [
            "Cloning into 'fullstack_deeplearning_course'...\n",
            "remote: Enumerating objects: 129, done.\u001b[K\n",
            "remote: Counting objects: 100% (129/129), done.\u001b[K\n",
            "remote: Compressing objects: 100% (118/118), done.\u001b[K\n",
            "remote: Total 129 (delta 38), reused 38 (delta 2), pack-reused 0\u001b[K\n",
            "Receiving objects: 100% (129/129), 28.97 MiB | 24.47 MiB/s, done.\n",
            "Resolving deltas: 100% (38/38), done.\n"
          ],
          "name": "stdout"
        }
      ]
    },
    {
      "cell_type": "code",
      "metadata": {
        "colab": {
          "base_uri": "https://localhost:8080/"
        },
        "id": "zc9wS-jrHAVE",
        "outputId": "81bba766-5dde-41ff-c0af-db60927cfbf7"
      },
      "source": [
        "%cd fullstack_deeplearning_course"
      ],
      "execution_count": 7,
      "outputs": [
        {
          "output_type": "stream",
          "text": [
            "[Errno 2] No such file or directory: 'fullstack_deeplearning_course'\n",
            "/content/fullstack_deeplearning_course\n"
          ],
          "name": "stdout"
        }
      ]
    },
    {
      "cell_type": "code",
      "metadata": {
        "colab": {
          "base_uri": "https://localhost:8080/"
        },
        "id": "n5Kg64FkHNBl",
        "outputId": "e91e3da3-e0ad-453c-994b-56febfdda62d"
      },
      "source": [
        "%cd Labs"
      ],
      "execution_count": 8,
      "outputs": [
        {
          "output_type": "stream",
          "text": [
            "/content/fullstack_deeplearning_course/Labs\n"
          ],
          "name": "stdout"
        }
      ]
    },
    {
      "cell_type": "code",
      "metadata": {
        "id": "g1lBF6P3HYcT"
      },
      "source": [
        "!pip install pytorch_lightning\r\n",
        "%env PYTHONPATH=.:$PYTHONPATH"
      ],
      "execution_count": null,
      "outputs": []
    },
    {
      "cell_type": "code",
      "metadata": {
        "colab": {
          "base_uri": "https://localhost:8080/"
        },
        "id": "aBOToEu8Hcep",
        "outputId": "a350e5c0-f252-4933-b963-dfa01f7d0498"
      },
      "source": [
        "%cd lab1"
      ],
      "execution_count": 10,
      "outputs": [
        {
          "output_type": "stream",
          "text": [
            "/content/fullstack_deeplearning_course/Labs/lab1\n"
          ],
          "name": "stdout"
        }
      ]
    },
    {
      "cell_type": "markdown",
      "metadata": {
        "id": "Vvoqcm4pI7CJ"
      },
      "source": [
        "# Run training script"
      ]
    },
    {
      "cell_type": "code",
      "metadata": {
        "id": "TVtlFmxoHmDE"
      },
      "source": [
        "!python training/run_experiment.py --max_epochs=3 --fc1=128"
      ],
      "execution_count": null,
      "outputs": []
    }
  ]
}